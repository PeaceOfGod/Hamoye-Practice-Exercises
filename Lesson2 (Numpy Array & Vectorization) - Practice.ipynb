{
  "nbformat": 4,
  "nbformat_minor": 0,
  "metadata": {
    "colab": {
      "name": "Lesson2_Practice.ipynb",
      "provenance": [],
      "authorship_tag": "ABX9TyPk9ykxxlsQl2BDmO53gpJM",
      "include_colab_link": true
    },
    "kernelspec": {
      "name": "python3",
      "display_name": "Python 3"
    }
  },
  "cells": [
    {
      "cell_type": "markdown",
      "metadata": {
        "id": "view-in-github",
        "colab_type": "text"
      },
      "source": [
        "<a href=\"https://colab.research.google.com/github/PeaceOfGod/Hamoye-Practice-Exercises/blob/master/Lesson2%20(Numpy%20Array%20%26%20Vectorization)%20-%20Practice.ipynb\" target=\"_parent\"><img src=\"https://colab.research.google.com/assets/colab-badge.svg\" alt=\"Open In Colab\"/></a>"
      ]
    },
    {
      "cell_type": "markdown",
      "metadata": {
        "id": "oEjDdLJNDJji",
        "colab_type": "text"
      },
      "source": [
        "## Import Numpy"
      ]
    },
    {
      "cell_type": "code",
      "metadata": {
        "id": "5GefZiIJDSQ2",
        "colab_type": "code",
        "colab": {}
      },
      "source": [
        "import numpy as np"
      ],
      "execution_count": 15,
      "outputs": []
    },
    {
      "cell_type": "code",
      "metadata": {
        "id": "37k6m-xRDWeB",
        "colab_type": "code",
        "colab": {}
      },
      "source": [
        "arr = np.array([[2,3,4], [5,6,7], [8,9,1]])"
      ],
      "execution_count": 16,
      "outputs": []
    },
    {
      "cell_type": "code",
      "metadata": {
        "id": "0DiCuqS7Dj3X",
        "colab_type": "code",
        "colab": {
          "base_uri": "https://localhost:8080/",
          "height": 68
        },
        "outputId": "27faa268-82fe-4d84-ee72-783c8beb16e5"
      },
      "source": [
        "print (arr)"
      ],
      "execution_count": 17,
      "outputs": [
        {
          "output_type": "stream",
          "text": [
            "[[2 3 4]\n",
            " [5 6 7]\n",
            " [8 9 1]]\n"
          ],
          "name": "stdout"
        }
      ]
    },
    {
      "cell_type": "code",
      "metadata": {
        "id": "MSwlLhjoDuUK",
        "colab_type": "code",
        "colab": {
          "base_uri": "https://localhost:8080/",
          "height": 34
        },
        "outputId": "d9351119-276c-4e7b-bf2f-6899629250bc"
      },
      "source": [
        "print (arr.dtype)"
      ],
      "execution_count": 18,
      "outputs": [
        {
          "output_type": "stream",
          "text": [
            "int64\n"
          ],
          "name": "stdout"
        }
      ]
    },
    {
      "cell_type": "code",
      "metadata": {
        "id": "wC8kqhAwD20R",
        "colab_type": "code",
        "colab": {
          "base_uri": "https://localhost:8080/",
          "height": 34
        },
        "outputId": "ecd0a2fa-3041-4c87-ae33-febbcb15c076"
      },
      "source": [
        "print (arr.shape)"
      ],
      "execution_count": 19,
      "outputs": [
        {
          "output_type": "stream",
          "text": [
            "(3, 3)\n"
          ],
          "name": "stdout"
        }
      ]
    },
    {
      "cell_type": "code",
      "metadata": {
        "id": "VY1QYfkcD7Ph",
        "colab_type": "code",
        "colab": {
          "base_uri": "https://localhost:8080/",
          "height": 34
        },
        "outputId": "41fd7671-e059-44ff-fc55-b0794b3fa97f"
      },
      "source": [
        "print (arr.ndim)"
      ],
      "execution_count": 20,
      "outputs": [
        {
          "output_type": "stream",
          "text": [
            "2\n"
          ],
          "name": "stdout"
        }
      ]
    },
    {
      "cell_type": "code",
      "metadata": {
        "id": "h0RMknPaFfhQ",
        "colab_type": "code",
        "colab": {
          "base_uri": "https://localhost:8080/",
          "height": 68
        },
        "outputId": "5625475d-1037-42da-c9e5-d3e741cff101"
      },
      "source": [
        "b = np.array([[1,2], [2,3], [3,4], [4,5], [5,6]], float)\n",
        "print (\"Array Dimension is \", b.ndim)\n",
        "print (\"The shape of the array is \", b.shape)\n",
        "print (\"The array has a type: \", b.dtype)"
      ],
      "execution_count": 21,
      "outputs": [
        {
          "output_type": "stream",
          "text": [
            "Array Dimension is  2\n",
            "The shape of the array is  (5, 2)\n",
            "The array has a type:  float64\n"
          ],
          "name": "stdout"
        }
      ]
    },
    {
      "cell_type": "code",
      "metadata": {
        "id": "GAtOziluGzI4",
        "colab_type": "code",
        "colab": {}
      },
      "source": [
        "c = np.array([[9.0, 8.0, 7.0], [1.0, 2.0, 3.0]])\n",
        "d = np.array([[4.0, 5.0, 6.0], [9.0, 8.0, 7.0]])"
      ],
      "execution_count": 22,
      "outputs": []
    },
    {
      "cell_type": "code",
      "metadata": {
        "id": "KoGWM2izGxG0",
        "colab_type": "code",
        "colab": {
          "base_uri": "https://localhost:8080/",
          "height": 51
        },
        "outputId": "e692bb05-732f-452d-ae89-04d57ff098ff"
      },
      "source": [
        "print (c + d)"
      ],
      "execution_count": 23,
      "outputs": [
        {
          "output_type": "stream",
          "text": [
            "[[13. 13. 13.]\n",
            " [10. 10. 10.]]\n"
          ],
          "name": "stdout"
        }
      ]
    },
    {
      "cell_type": "code",
      "metadata": {
        "id": "q5wz6AJdYYti",
        "colab_type": "code",
        "colab": {
          "base_uri": "https://localhost:8080/",
          "height": 51
        },
        "outputId": "22a57680-cdf9-47a2-e77c-6c39f9283653"
      },
      "source": [
        "print (c * d)"
      ],
      "execution_count": 24,
      "outputs": [
        {
          "output_type": "stream",
          "text": [
            "[[36. 40. 42.]\n",
            " [ 9. 16. 21.]]\n"
          ],
          "name": "stdout"
        }
      ]
    },
    {
      "cell_type": "code",
      "metadata": {
        "id": "ZFG4hjMOYb59",
        "colab_type": "code",
        "colab": {
          "base_uri": "https://localhost:8080/",
          "height": 51
        },
        "outputId": "2f106e09-f1f2-4454-b8b3-6994de326149"
      },
      "source": [
        "print ( 5  / d)"
      ],
      "execution_count": 25,
      "outputs": [
        {
          "output_type": "stream",
          "text": [
            "[[1.25       1.         0.83333333]\n",
            " [0.55555556 0.625      0.71428571]]\n"
          ],
          "name": "stdout"
        }
      ]
    },
    {
      "cell_type": "code",
      "metadata": {
        "id": "ZtphWf7JYgza",
        "colab_type": "code",
        "colab": {
          "base_uri": "https://localhost:8080/",
          "height": 51
        },
        "outputId": "6fb95370-4703-4a81-caf7-43fddf4f8a04"
      },
      "source": [
        "ask = c ** 2\n",
        "print (ask)"
      ],
      "execution_count": 27,
      "outputs": [
        {
          "output_type": "stream",
          "text": [
            "[[81. 64. 49.]\n",
            " [ 1.  4.  9.]]\n"
          ],
          "name": "stdout"
        }
      ]
    },
    {
      "cell_type": "code",
      "metadata": {
        "id": "GgcgDu-fYpf7",
        "colab_type": "code",
        "colab": {
          "base_uri": "https://localhost:8080/",
          "height": 85
        },
        "outputId": "bb0c1710-864c-40a1-e048-9887ee254fee"
      },
      "source": [
        "print (ask.dtype)\n",
        "print (ask.ndim)\n",
        "print (ask.size)\n",
        "print (ask.shape)"
      ],
      "execution_count": 28,
      "outputs": [
        {
          "output_type": "stream",
          "text": [
            "float64\n",
            "2\n",
            "6\n",
            "(2, 3)\n"
          ],
          "name": "stdout"
        }
      ]
    },
    {
      "cell_type": "markdown",
      "metadata": {
        "id": "4s5qG8xeaMCf",
        "colab_type": "text"
      },
      "source": [
        "##Indexing with arrays "
      ]
    },
    {
      "cell_type": "code",
      "metadata": {
        "id": "sYkxJmlbZWuk",
        "colab_type": "code",
        "colab": {
          "base_uri": "https://localhost:8080/",
          "height": 102
        },
        "outputId": "6f5ccd6c-53ef-48e3-cd6d-58a50a6f131f"
      },
      "source": [
        "print (ask[1])\n",
        "print (b[3])\n",
        "print (b[-2])\n",
        "print (ask[1][2])\n",
        "print (c[0][2])"
      ],
      "execution_count": 33,
      "outputs": [
        {
          "output_type": "stream",
          "text": [
            "[1. 4. 9.]\n",
            "[4. 5.]\n",
            "[4. 5.]\n",
            "9.0\n",
            "7.0\n"
          ],
          "name": "stdout"
        }
      ]
    },
    {
      "cell_type": "markdown",
      "metadata": {
        "id": "QevJau0_aTwK",
        "colab_type": "text"
      },
      "source": [
        "##Slicing "
      ]
    },
    {
      "cell_type": "code",
      "metadata": {
        "id": "fQxfy2OSaWkw",
        "colab_type": "code",
        "colab": {
          "base_uri": "https://localhost:8080/",
          "height": 34
        },
        "outputId": "66f31cf8-afbb-4cab-8ccf-e2cbab089801"
      },
      "source": [
        "#ask[1, 0:1]\n",
        "#ask[1, 0:2]\n",
        "#ask[1, 0:3]\n",
        "d[0, 0:2]"
      ],
      "execution_count": 38,
      "outputs": [
        {
          "output_type": "execute_result",
          "data": {
            "text/plain": [
              "array([4., 5.])"
            ]
          },
          "metadata": {
            "tags": []
          },
          "execution_count": 38
        }
      ]
    },
    {
      "cell_type": "code",
      "metadata": {
        "id": "pemnp4n5awxs",
        "colab_type": "code",
        "colab": {}
      },
      "source": [
        "e = np.array([[10, 11, 12], [13, 14, 15],\n",
        "              [16, 17, 18], [19, 20, 21]])"
      ],
      "execution_count": 39,
      "outputs": []
    },
    {
      "cell_type": "code",
      "metadata": {
        "id": "QU7kDrRzbVaq",
        "colab_type": "code",
        "colab": {
          "base_uri": "https://localhost:8080/",
          "height": 68
        },
        "outputId": "e4998b29-d3a6-45ef-ee36-79b294e5012a"
      },
      "source": [
        "e[:3, :2]"
      ],
      "execution_count": 40,
      "outputs": [
        {
          "output_type": "execute_result",
          "data": {
            "text/plain": [
              "array([[10, 11],\n",
              "       [13, 14],\n",
              "       [16, 17]])"
            ]
          },
          "metadata": {
            "tags": []
          },
          "execution_count": 40
        }
      ]
    },
    {
      "cell_type": "code",
      "metadata": {
        "id": "-Xlo9z2cbtIR",
        "colab_type": "code",
        "colab": {
          "base_uri": "https://localhost:8080/",
          "height": 34
        },
        "outputId": "37946dd4-493b-4979-ed9b-6ccb641a790d"
      },
      "source": [
        "e[[2, 0, 3, 1], [2, 1, 0, 2]]"
      ],
      "execution_count": 41,
      "outputs": [
        {
          "output_type": "execute_result",
          "data": {
            "text/plain": [
              "array([18, 11, 19, 15])"
            ]
          },
          "metadata": {
            "tags": []
          },
          "execution_count": 41
        }
      ]
    },
    {
      "cell_type": "code",
      "metadata": {
        "id": "NDgaCEBycFZT",
        "colab_type": "code",
        "colab": {
          "base_uri": "https://localhost:8080/",
          "height": 34
        },
        "outputId": "c9a9b3cd-3fdf-4bbb-c02e-7252f119edcb"
      },
      "source": [
        "e[e>15]"
      ],
      "execution_count": 42,
      "outputs": [
        {
          "output_type": "execute_result",
          "data": {
            "text/plain": [
              "array([16, 17, 18, 19, 20, 21])"
            ]
          },
          "metadata": {
            "tags": []
          },
          "execution_count": 42
        }
      ]
    },
    {
      "cell_type": "code",
      "metadata": {
        "id": "sLVqQZ1-cddB",
        "colab_type": "code",
        "colab": {
          "base_uri": "https://localhost:8080/",
          "height": 34
        },
        "outputId": "95826f08-e536-465a-8908-45227436d54d"
      },
      "source": [
        "b[[1, 3, 4, 0], [0, 1, 1, 0]]"
      ],
      "execution_count": 43,
      "outputs": [
        {
          "output_type": "execute_result",
          "data": {
            "text/plain": [
              "array([2., 5., 6., 1.])"
            ]
          },
          "metadata": {
            "tags": []
          },
          "execution_count": 43
        }
      ]
    },
    {
      "cell_type": "code",
      "metadata": {
        "id": "3p_IO9V4dIz_",
        "colab_type": "code",
        "colab": {}
      },
      "source": [
        ""
      ],
      "execution_count": null,
      "outputs": []
    }
  ]
}