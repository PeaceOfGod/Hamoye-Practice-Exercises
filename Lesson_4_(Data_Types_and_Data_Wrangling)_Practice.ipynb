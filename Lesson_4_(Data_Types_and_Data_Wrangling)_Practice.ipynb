{
  "nbformat": 4,
  "nbformat_minor": 0,
  "metadata": {
    "colab": {
      "name": "Lesson 4 (Data Types and Data Wrangling) - Practice.ipynb",
      "provenance": [],
      "authorship_tag": "ABX9TyPiHwJ7OgQ7ZsX/Xybu4BGP",
      "include_colab_link": true
    },
    "kernelspec": {
      "name": "python3",
      "display_name": "Python 3"
    }
  },
  "cells": [
    {
      "cell_type": "markdown",
      "metadata": {
        "id": "view-in-github",
        "colab_type": "text"
      },
      "source": [
        "<a href=\"https://colab.research.google.com/github/PeaceOfGod/Hamoye-Practice-Exercises/blob/master/Lesson_4_(Data_Types_and_Data_Wrangling)_Practice.ipynb\" target=\"_parent\"><img src=\"https://colab.research.google.com/assets/colab-badge.svg\" alt=\"Open In Colab\"/></a>"
      ]
    },
    {
      "cell_type": "code",
      "metadata": {
        "id": "QUTRuHjXUNFG",
        "colab_type": "code",
        "colab": {}
      },
      "source": [
        "import pandas as pd"
      ],
      "execution_count": null,
      "outputs": []
    },
    {
      "cell_type": "markdown",
      "metadata": {
        "id": "0Pgs8z1TLT5M",
        "colab_type": "text"
      },
      "source": [
        "Working with different types of data: text files, CSV, JSON objects, HTML and databases."
      ]
    },
    {
      "cell_type": "code",
      "metadata": {
        "id": "omdMxjBmRQWx",
        "colab_type": "code",
        "colab": {}
      },
      "source": [
        "csv_df = pd.read_csv('sample_file.csv')\n",
        "csv_df.to_csv('sample_file.csv', index=False)"
      ],
      "execution_count": null,
      "outputs": []
    },
    {
      "cell_type": "markdown",
      "metadata": {
        "id": "CB2caAv4Lddy",
        "colab_type": "text"
      },
      "source": [
        "sometimes dependent on the xlrd library which can be installed by running pip install xlrd in the terminal"
      ]
    },
    {
      "cell_type": "code",
      "metadata": {
        "id": "vUnEGGOWTP4N",
        "colab_type": "code",
        "colab": {}
      },
      "source": [
        "excel_df = pd.read_excel('sample_file.xlsx')\n",
        "excel_df.to_excel('sample_file.xlsx')"
      ],
      "execution_count": null,
      "outputs": []
    },
    {
      "cell_type": "markdown",
      "metadata": {
        "id": "oFOUk6GaLzJL",
        "colab_type": "text"
      },
      "source": [
        "Read table from a webpage and save as a dataframe"
      ]
    },
    {
      "cell_type": "code",
      "metadata": {
        "id": "h4DrkjgQT6ML",
        "colab_type": "code",
        "colab": {}
      },
      "source": [
        "html_df = pd.read_html('https://web.facebook.com/?_rdc=1&_rdr')\n",
        "html_df.to_html('sample_file.html')"
      ],
      "execution_count": null,
      "outputs": []
    },
    {
      "cell_type": "markdown",
      "metadata": {
        "id": "HeJfrNsKL6D1",
        "colab_type": "text"
      },
      "source": [
        "#Pandas can connect to databases, get data with queries and save in a dataframe."
      ]
    },
    {
      "cell_type": "code",
      "metadata": {
        "id": "rvPO9hr-UJKs",
        "colab_type": "code",
        "colab": {}
      },
      "source": [
        "url = 'https://github.com/WalePhenomenon/climate_change/blob/master/fuel_ferc1.csv?ra'\n",
        "fuel_data = pd.read_csv(url, error_bad_lines=False)\n",
        "fuel_data.describe(include='all')"
      ],
      "execution_count": null,
      "outputs": []
    },
    {
      "cell_type": "markdown",
      "metadata": {
        "id": "JIYvtcG3MTtV",
        "colab_type": "text"
      },
      "source": [
        "check for missing values"
      ]
    },
    {
      "cell_type": "code",
      "metadata": {
        "id": "mLSS-U0yMWUe",
        "colab_type": "code",
        "colab": {}
      },
      "source": [
        "fuel_data.isnull().sum()"
      ],
      "execution_count": null,
      "outputs": []
    },
    {
      "cell_type": "markdown",
      "metadata": {
        "id": "KVIeWY-HMati",
        "colab_type": "text"
      },
      "source": [
        "use groupby to count the sum of each unique value in the fuel unit column"
      ]
    },
    {
      "cell_type": "code",
      "metadata": {
        "id": "gAfT0rh6Mgca",
        "colab_type": "code",
        "colab": {}
      },
      "source": [
        "fuel_data.groupby('fuel_unit')['fuel_unit'].count()\n",
        "fuel_data[['fuel_unit']] = fuel_data[['fuel_unit']].fillna(value='mcf')"
      ],
      "execution_count": null,
      "outputs": []
    },
    {
      "cell_type": "markdown",
      "metadata": {
        "id": "EU4M1vu6M-ZU",
        "colab_type": "text"
      },
      "source": [
        "check if missing values have been filled"
      ]
    },
    {
      "cell_type": "code",
      "metadata": {
        "id": "kbZm9bTKNCG_",
        "colab_type": "code",
        "colab": {}
      },
      "source": [
        "fuel_data.isnull().sum()"
      ],
      "execution_count": null,
      "outputs": []
    },
    {
      "cell_type": "code",
      "metadata": {
        "id": "6TUhtex2NIr3",
        "colab_type": "code",
        "colab": {}
      },
      "source": [
        "fuel_data.groupby('report_year')['report_year'].count()"
      ],
      "execution_count": null,
      "outputs": []
    },
    {
      "cell_type": "markdown",
      "metadata": {
        "id": "7SL3pz2VNGfc",
        "colab_type": "text"
      },
      "source": [
        "group by the fuel code year and print the first entries in all the groups formed"
      ]
    },
    {
      "cell_type": "code",
      "metadata": {
        "id": "LZ8v5V2cNaA_",
        "colab_type": "code",
        "colab": {}
      },
      "source": [
        "fuel_data.groupby('fuel_type_code_pudl').first()"
      ],
      "execution_count": null,
      "outputs": []
    },
    {
      "cell_type": "markdown",
      "metadata": {
        "id": "sk6QkS1kNinI",
        "colab_type": "text"
      },
      "source": [
        "#Merging in Pandas can be likened to join operations in relational databases like SQL"
      ]
    },
    {
      "cell_type": "code",
      "metadata": {
        "id": "FzW2Im8aNrej",
        "colab_type": "code",
        "colab": {}
      },
      "source": [
        "fuel_df1 = fuel_data.iloc[0:19000].reset_index(drop=True)\n",
        "fuel_df1 = fuel_data.iloc[19000:].reset_index(drop=True)"
      ],
      "execution_count": null,
      "outputs": []
    },
    {
      "cell_type": "markdown",
      "metadata": {
        "id": "H9286qQ_N3JI",
        "colab_type": "text"
      },
      "source": [
        "check that the length of both dataframes sum to the expected length"
      ]
    },
    {
      "cell_type": "code",
      "metadata": {
        "id": "J5mKLKXiN8Zj",
        "colab_type": "code",
        "colab": {}
      },
      "source": [
        "assert len(fuel_data) == (len(fuel_df1) + len(fuel_df2))"
      ],
      "execution_count": null,
      "outputs": []
    },
    {
      "cell_type": "markdown",
      "metadata": {
        "id": "LLZjxrhyOJFJ",
        "colab_type": "text"
      },
      "source": [
        "an inner merge will lose rows that do not match in both dataframes"
      ]
    },
    {
      "cell_type": "code",
      "metadata": {
        "id": "TGA3gmlJOOml",
        "colab_type": "code",
        "colab": {}
      },
      "source": [
        "pd.merge(fuel_df1, fuel_df2, how=\"inner\")"
      ],
      "execution_count": null,
      "outputs": []
    },
    {
      "cell_type": "markdown",
      "metadata": {
        "id": "1_StlwTsOWVw",
        "colab_type": "text"
      },
      "source": [
        "outer merge returns all rows in both dataframes"
      ]
    },
    {
      "cell_type": "code",
      "metadata": {
        "id": "UBtUpa6KObji",
        "colab_type": "code",
        "colab": {}
      },
      "source": [
        "pd.merge(fuel_df1, fuel_df2, how=\"outer\")"
      ],
      "execution_count": null,
      "outputs": []
    },
    {
      "cell_type": "markdown",
      "metadata": {
        "id": "XJyYptUCOjfa",
        "colab_type": "text"
      },
      "source": [
        "removes rows from the right dataframe that do not have a match with the left and keeps all rows from the left"
      ]
    },
    {
      "cell_type": "code",
      "metadata": {
        "id": "WIxOqvB-Oqnw",
        "colab_type": "code",
        "colab": {}
      },
      "source": [
        "pd.merge(fuel_df1, fuel_df2, how=\"left\")"
      ],
      "execution_count": null,
      "outputs": []
    },
    {
      "cell_type": "markdown",
      "metadata": {
        "id": "ceLNed-9OvkM",
        "colab_type": "text"
      },
      "source": [
        "#Concatenation is performed with the concat() function"
      ]
    },
    {
      "cell_type": "code",
      "metadata": {
        "id": "KbrabPxTO1D-",
        "colab_type": "code",
        "colab": {}
      },
      "source": [
        "pd.concat([fuel_data, data_-to_concat]).reset_index(drop=True)"
      ],
      "execution_count": null,
      "outputs": []
    },
    {
      "cell_type": "markdown",
      "metadata": {
        "id": "6Hu9xcKPO_3O",
        "colab_type": "text"
      },
      "source": [
        "#Duplicates are a common occurence in datasets which alter the results of data analysis"
      ]
    },
    {
      "cell_type": "markdown",
      "metadata": {
        "id": "vTbFy8hRPIrL",
        "colab_type": "text"
      },
      "source": [
        "check for duplicate rows"
      ]
    },
    {
      "cell_type": "code",
      "metadata": {
        "id": "QK_serDoPF5T",
        "colab_type": "code",
        "colab": {}
      },
      "source": [
        "fuel_data.duplicated().any()"
      ],
      "execution_count": null,
      "outputs": []
    }
  ]
}